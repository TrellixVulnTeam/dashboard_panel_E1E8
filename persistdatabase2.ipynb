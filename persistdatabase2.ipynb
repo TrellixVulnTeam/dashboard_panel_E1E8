{
 "cells": [
  {
   "cell_type": "markdown",
   "id": "0f9daac8-08a3-48bb-b6e0-90125e181d25",
   "metadata": {},
   "source": [
    "<h1>Bibliotecas</h1>"
   ]
  },
  {
   "cell_type": "code",
   "execution_count": null,
   "id": "08c4decd",
   "metadata": {},
   "outputs": [],
   "source": [
    "import pandas as pd\n",
    "import numpy as np \n",
    "import matplotlib.pyplot as plt\n",
    "import statistics\n",
    "from sqlalchemy import create_engine\n",
    "import schedule \n",
    "import time"
   ]
  },
  {
   "cell_type": "markdown",
   "id": "3b8bd273",
   "metadata": {},
   "source": [
    "<h1>Dataframe não Processado</h1>"
   ]
  },
  {
   "cell_type": "code",
   "execution_count": null,
   "id": "09935207-780b-4ac6-ba75-2213fa14a292",
   "metadata": {},
   "outputs": [],
   "source": [
    "df = pd.read_csv (r'C:\\Users\\Gabriel\\Documents\\dashboard_panel_dados\\treatedBusDataOnlyRoute.csv')  \n",
    "df"
   ]
  },
  {
   "cell_type": "code",
   "execution_count": null,
   "id": "6aa4c874-2612-437a-a0d9-7b5e6207bd7d",
   "metadata": {},
   "outputs": [],
   "source": []
  }
 ],
 "metadata": {
  "kernelspec": {
   "display_name": "Python 3 (ipykernel)",
   "language": "python",
   "name": "python3"
  },
  "language_info": {
   "codemirror_mode": {
    "name": "ipython",
    "version": 3
   },
   "file_extension": ".py",
   "mimetype": "text/x-python",
   "name": "python",
   "nbconvert_exporter": "python",
   "pygments_lexer": "ipython3",
   "version": "3.10.5"
  },
  "vscode": {
   "interpreter": {
    "hash": "be6aea68e54c414434c4f6c06952cc397d6719358bdebd56eebca4318a9c941d"
   }
  }
 },
 "nbformat": 4,
 "nbformat_minor": 5
}
