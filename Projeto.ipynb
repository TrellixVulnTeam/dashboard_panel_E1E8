{
 "cells": [
  {
   "cell_type": "markdown",
   "id": "7a611973-eaec-46b3-bc1e-849dce29ca41",
   "metadata": {
    "tags": []
   },
   "source": [
    "<h1>Biblioteca</h1>"
   ]
  },
  {
   "cell_type": "code",
   "execution_count": 1,
   "id": "c475e7ea-d3f5-40fa-9e5e-8b6abfdbb01a",
   "metadata": {},
   "outputs": [],
   "source": [
    "import pandas as pd\n",
    "import numpy as np \n",
    "\n",
    "\n"
   ]
  },
  {
   "cell_type": "markdown",
   "id": "845b4968-74d3-4dae-b358-489362dbfef8",
   "metadata": {},
   "source": [
    "<h1>Pré-Processamento</h1>"
   ]
  },
  {
   "cell_type": "code",
   "execution_count": 2,
   "id": "43e6e62a-111c-4b6f-a7db-bb43d3a1bd98",
   "metadata": {},
   "outputs": [
    {
     "data": {
      "text/html": [
       "<div>\n",
       "<style scoped>\n",
       "    .dataframe tbody tr th:only-of-type {\n",
       "        vertical-align: middle;\n",
       "    }\n",
       "\n",
       "    .dataframe tbody tr th {\n",
       "        vertical-align: top;\n",
       "    }\n",
       "\n",
       "    .dataframe thead th {\n",
       "        text-align: right;\n",
       "    }\n",
       "</style>\n",
       "<table border=\"1\" class=\"dataframe\">\n",
       "  <thead>\n",
       "    <tr style=\"text-align: right;\">\n",
       "      <th></th>\n",
       "      <th>ordem</th>\n",
       "      <th>linha</th>\n",
       "      <th>latitude</th>\n",
       "      <th>longitude</th>\n",
       "      <th>velocidade</th>\n",
       "      <th>dataHora</th>\n",
       "    </tr>\n",
       "  </thead>\n",
       "  <tbody>\n",
       "    <tr>\n",
       "      <th>0</th>\n",
       "      <td>D13009</td>\n",
       "      <td>746</td>\n",
       "      <td>-22.87641</td>\n",
       "      <td>-43.41989</td>\n",
       "      <td>0</td>\n",
       "      <td>05-10-2022 04:52:25</td>\n",
       "    </tr>\n",
       "    <tr>\n",
       "      <th>1</th>\n",
       "      <td>D13214</td>\n",
       "      <td>790</td>\n",
       "      <td>-22.88002</td>\n",
       "      <td>-43.35820</td>\n",
       "      <td>0</td>\n",
       "      <td>05-10-2022 05:45:59</td>\n",
       "    </tr>\n",
       "    <tr>\n",
       "      <th>2</th>\n",
       "      <td>B10027</td>\n",
       "      <td>328</td>\n",
       "      <td>-22.83908</td>\n",
       "      <td>-43.24094</td>\n",
       "      <td>5</td>\n",
       "      <td>05-10-2022 07:05:14</td>\n",
       "    </tr>\n",
       "    <tr>\n",
       "      <th>3</th>\n",
       "      <td>A48056</td>\n",
       "      <td>202</td>\n",
       "      <td>-22.99045</td>\n",
       "      <td>-43.25235</td>\n",
       "      <td>0</td>\n",
       "      <td>05-10-2022 07:40:29</td>\n",
       "    </tr>\n",
       "    <tr>\n",
       "      <th>4</th>\n",
       "      <td>B32606</td>\n",
       "      <td>298</td>\n",
       "      <td>-22.81717</td>\n",
       "      <td>-43.39352</td>\n",
       "      <td>0</td>\n",
       "      <td>05-10-2022 08:44:02</td>\n",
       "    </tr>\n",
       "    <tr>\n",
       "      <th>...</th>\n",
       "      <td>...</td>\n",
       "      <td>...</td>\n",
       "      <td>...</td>\n",
       "      <td>...</td>\n",
       "      <td>...</td>\n",
       "      <td>...</td>\n",
       "    </tr>\n",
       "    <tr>\n",
       "      <th>3407</th>\n",
       "      <td>B11506</td>\n",
       "      <td>665</td>\n",
       "      <td>-22.91543</td>\n",
       "      <td>-43.23212</td>\n",
       "      <td>26</td>\n",
       "      <td>05-10-2022 14:24:00</td>\n",
       "    </tr>\n",
       "    <tr>\n",
       "      <th>3408</th>\n",
       "      <td>B11518</td>\n",
       "      <td>650</td>\n",
       "      <td>-22.89669</td>\n",
       "      <td>-43.25681</td>\n",
       "      <td>0</td>\n",
       "      <td>05-10-2022 14:24:00</td>\n",
       "    </tr>\n",
       "    <tr>\n",
       "      <th>3409</th>\n",
       "      <td>B11520</td>\n",
       "      <td>665</td>\n",
       "      <td>-22.81503</td>\n",
       "      <td>-43.29785</td>\n",
       "      <td>5</td>\n",
       "      <td>05-10-2022 14:24:00</td>\n",
       "    </tr>\n",
       "    <tr>\n",
       "      <th>3410</th>\n",
       "      <td>B11560</td>\n",
       "      <td>908</td>\n",
       "      <td>-22.88049</td>\n",
       "      <td>-43.32314</td>\n",
       "      <td>22</td>\n",
       "      <td>05-10-2022 14:24:00</td>\n",
       "    </tr>\n",
       "    <tr>\n",
       "      <th>3411</th>\n",
       "      <td>B71108</td>\n",
       "      <td>457</td>\n",
       "      <td>-22.88294</td>\n",
       "      <td>-43.29928</td>\n",
       "      <td>0</td>\n",
       "      <td>05-10-2022 14:24:01</td>\n",
       "    </tr>\n",
       "  </tbody>\n",
       "</table>\n",
       "<p>3412 rows × 6 columns</p>\n",
       "</div>"
      ],
      "text/plain": [
       "       ordem linha  latitude  longitude  velocidade             dataHora\n",
       "0     D13009   746 -22.87641  -43.41989           0  05-10-2022 04:52:25\n",
       "1     D13214   790 -22.88002  -43.35820           0  05-10-2022 05:45:59\n",
       "2     B10027   328 -22.83908  -43.24094           5  05-10-2022 07:05:14\n",
       "3     A48056   202 -22.99045  -43.25235           0  05-10-2022 07:40:29\n",
       "4     B32606   298 -22.81717  -43.39352           0  05-10-2022 08:44:02\n",
       "...      ...   ...       ...        ...         ...                  ...\n",
       "3407  B11506   665 -22.91543  -43.23212          26  05-10-2022 14:24:00\n",
       "3408  B11518   650 -22.89669  -43.25681           0  05-10-2022 14:24:00\n",
       "3409  B11520   665 -22.81503  -43.29785           5  05-10-2022 14:24:00\n",
       "3410  B11560   908 -22.88049  -43.32314          22  05-10-2022 14:24:00\n",
       "3411  B71108   457 -22.88294  -43.29928           0  05-10-2022 14:24:01\n",
       "\n",
       "[3412 rows x 6 columns]"
      ]
     },
     "execution_count": 2,
     "metadata": {},
     "output_type": "execute_result"
    }
   ],
   "source": [
    "df = pd.read_json('https://jeap.rio.rj.gov.br/dadosAbertosAPI/v2/transporte/veiculos/onibus2')\n",
    "df"
   ]
  },
  {
   "cell_type": "code",
   "execution_count": 3,
   "id": "61ffe688-03dd-4e4b-86b4-c5e860a5b7e1",
   "metadata": {},
   "outputs": [
    {
     "data": {
      "text/plain": [
       "Index(['ordem', 'linha', 'latitude', 'longitude', 'velocidade', 'dataHora'], dtype='object')"
      ]
     },
     "execution_count": 3,
     "metadata": {},
     "output_type": "execute_result"
    }
   ],
   "source": [
    "df.columns"
   ]
  },
  {
   "cell_type": "code",
   "execution_count": 4,
   "id": "6eb56682-3eaf-43e9-aab0-d3f1d72f5793",
   "metadata": {},
   "outputs": [],
   "source": [
    "##Exportação do dataframe em Python\n",
    "##df_excel=df\n",
    "##df_excel.to_excel (r'C:\\Users\\Gabriel\\Desktop\\Mestrado\\export_dataframe.xlsx', index = False, header=True)"
   ]
  },
  {
   "cell_type": "code",
   "execution_count": null,
   "id": "9005cb2f-5cb7-4a51-8b49-efce14508504",
   "metadata": {},
   "outputs": [],
   "source": []
  },
  {
   "cell_type": "code",
   "execution_count": null,
   "id": "a94e04fa-5705-4d8b-9fcf-1b1a5b60521b",
   "metadata": {},
   "outputs": [],
   "source": []
  }
 ],
 "metadata": {
  "kernelspec": {
   "display_name": "Python 3 (ipykernel)",
   "language": "python",
   "name": "python3"
  },
  "language_info": {
   "codemirror_mode": {
    "name": "ipython",
    "version": 3
   },
   "file_extension": ".py",
   "mimetype": "text/x-python",
   "name": "python",
   "nbconvert_exporter": "python",
   "pygments_lexer": "ipython3",
   "version": "3.10.4"
  },
  "toc-autonumbering": false,
  "toc-showmarkdowntxt": false
 },
 "nbformat": 4,
 "nbformat_minor": 5
}
