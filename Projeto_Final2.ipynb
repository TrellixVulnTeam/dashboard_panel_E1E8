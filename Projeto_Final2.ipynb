{
 "cells": [
  {
   "cell_type": "code",
   "execution_count": 1,
   "id": "7f778c5e-06d8-401c-ae80-2b6402824c57",
   "metadata": {},
   "outputs": [],
   "source": [
    "import pandas as pd\n",
    "import numpy as np \n",
    "import matplotlib.pyplot as plt\n",
    "import statistics\n",
    "from sqlalchemy import create_engine\n",
    "import sqlalchemy\n",
    "import schedule \n",
    "import time\n",
    "import seaborn as sns"
   ]
  },
  {
   "cell_type": "code",
   "execution_count": 2,
   "id": "c64ebec1-f8e2-4e49-b987-2f084cb5edf7",
   "metadata": {},
   "outputs": [
    {
     "name": "stdout",
     "output_type": "stream",
     "text": [
      "                date      time   order   line   latitude  longitude  speed\n",
      "0         01-25-2019  08:50:39  C51623  371.0 -22.883270 -43.342560   37.0\n",
      "1         01-25-2019  08:55:43  C51556  371.0 -22.887461 -43.282730    8.0\n",
      "2         01-25-2019  08:56:37  C51641  371.0 -22.884029 -43.342510   19.0\n",
      "3         01-25-2019  08:57:24  C51649  371.0 -22.881630 -43.293240   15.0\n",
      "4         01-25-2019  08:57:27  C51561  371.0 -22.907370 -43.237610   13.0\n",
      "...              ...       ...     ...    ...        ...        ...    ...\n",
      "59183740  03-21-2019  08:35:04  D13122  383.0 -22.905149 -43.269329    0.0\n",
      "59183741  03-21-2019  08:35:06  D13054  383.0 -22.916090 -43.230110    0.0\n",
      "59183742  03-21-2019  08:35:08  D13076  383.0 -22.882780 -43.345970   42.0\n",
      "59183743  03-21-2019  08:35:12  D13330  383.0 -22.903990 -43.278610   27.0\n",
      "59183744  03-21-2019  08:35:23  D13018  383.0 -22.890471 -43.424801    0.0\n",
      "\n",
      "[59183745 rows x 7 columns]\n"
     ]
    }
   ],
   "source": [
    "df = pd.read_csv (r'C:\\Users\\Gabriel\\Desktop\\dataframe\\treatedBusDataOnlyRoute.csv')  \n",
    "print (df)"
   ]
  },
  {
   "cell_type": "code",
   "execution_count": null,
   "id": "9c8fe10e-e83f-4ff8-82dd-5ac2f68398f2",
   "metadata": {},
   "outputs": [],
   "source": []
  },
  {
   "cell_type": "code",
   "execution_count": null,
   "id": "7d98bc7a-5539-4186-8e53-016bf6f548a0",
   "metadata": {},
   "outputs": [],
   "source": []
  }
 ],
 "metadata": {
  "kernelspec": {
   "display_name": "Python 3 (ipykernel)",
   "language": "python",
   "name": "python3"
  },
  "language_info": {
   "codemirror_mode": {
    "name": "ipython",
    "version": 3
   },
   "file_extension": ".py",
   "mimetype": "text/x-python",
   "name": "python",
   "nbconvert_exporter": "python",
   "pygments_lexer": "ipython3",
   "version": "3.10.5"
  }
 },
 "nbformat": 4,
 "nbformat_minor": 5
}
